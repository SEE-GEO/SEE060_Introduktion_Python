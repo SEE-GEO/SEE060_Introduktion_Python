{
 "cells": [
  {
   "cell_type": "markdown",
   "id": "bb065893-8f03-41f4-802f-d7d254fd7407",
   "metadata": {},
   "source": [
    "# Bibliotek\n",
    "\n",
    "I Pythons [standardbibliotek](https://docs.python.org/3.11/library/index.html) finns **moduler** med färdiga funktioner för diverse problem du kan stöta på.\n",
    "En modul, eller funktion kan importeras med `import <modulnamn>`.\n",
    "Detta är inte unikt för notebooks, utan fungerar på samma sätt i vanliga Python-filer (.py)."
   ]
  },
  {
   "cell_type": "code",
   "execution_count": null,
   "id": "0ee88c8c-efd5-4e68-82a7-07fd6a9e9e69",
   "metadata": {},
   "outputs": [],
   "source": [
    "# Itertools har många funktioner för att snabbt skapa nya sekvenser\n",
    "import itertools"
   ]
  },
  {
   "cell_type": "code",
   "execution_count": null,
   "id": "ae414322-60ca-4010-b0a6-7f76822707d3",
   "metadata": {},
   "outputs": [],
   "source": [
    "deltagare = [\"Pelle\", \"Saga\", \"Fatima\", \"Alex\"]\n",
    "matcher = []\n",
    "for match in itertools.combinations(deltagare, 2):\n",
    "    matcher.append(match)"
   ]
  },
  {
   "cell_type": "code",
   "execution_count": null,
   "id": "cb98ce3b-6aa0-4c28-8f6d-c21f57d029ae",
   "metadata": {},
   "outputs": [],
   "source": [
    "matcher"
   ]
  },
  {
   "cell_type": "markdown",
   "id": "5fa22fee-a2db-4274-a9c2-e4ed29483cd0",
   "metadata": {},
   "source": [
    "En samling matematiska funktioner och konstanter finns i modulen `math`:"
   ]
  },
  {
   "cell_type": "code",
   "execution_count": null,
   "id": "a5f71729-7dcc-4503-bee6-5316909d78eb",
   "metadata": {},
   "outputs": [],
   "source": [
    "import math"
   ]
  },
  {
   "cell_type": "code",
   "execution_count": null,
   "id": "2c86234d-615c-4498-9ecd-428c1cfe3f74",
   "metadata": {},
   "outputs": [],
   "source": [
    "math.log(100)"
   ]
  },
  {
   "cell_type": "code",
   "execution_count": null,
   "id": "a943bf22-6e0d-4370-9c67-b28ebb3f84f4",
   "metadata": {},
   "outputs": [],
   "source": [
    "math.pi"
   ]
  },
  {
   "cell_type": "code",
   "execution_count": null,
   "id": "a135c110-c50d-45ab-802e-38dc5530c499",
   "metadata": {},
   "outputs": [],
   "source": [
    "i = math.sqrt(4)"
   ]
  },
  {
   "cell_type": "code",
   "execution_count": null,
   "id": "03bdd479-0e1d-480b-8f3f-226738809ea1",
   "metadata": {},
   "outputs": [],
   "source": [
    "i"
   ]
  },
  {
   "cell_type": "markdown",
   "id": "07894912-52bf-42f4-afcc-598ad0760516",
   "metadata": {},
   "source": [
    "Du kan också enkelt skriva egna moduler och importera dessa.\n",
    "\n",
    "<div class=\"alert alert-block alert-success\">\n",
    "    <b>Uppgift: </b> Skapa en ny fil min_modul.py genom filhanteraren till vänster.\n",
    "    Öppna filen och definiera en ny funktion som konverterar en temperatur angiven i Celsius till Fahrenheit.\n",
    "    Funktionen ska acceptera ett argument: temp_c och returnera det konverterade värdet.\n",
    "    Använd din favoritsökmotor för att hitta förhållandet mellan Celsius och Fahrenheit.\n",
    "    Lägg till några celler nedan, importera din modul och testa funktionen.\n",
    "    <br>\n",
    "    <b>Glöm inte att spara min_modul.py innan du importerar den.</b>\n",
    "</div>"
   ]
  },
  {
   "cell_type": "markdown",
   "id": "4c7eaabc-e855-466f-9c32-27393c6ca3bf",
   "metadata": {},
   "source": [
    "Men det som gör Python så populärt är det stora ekosystemet av tredjepartsbibliotek, skapade av användarna av Python.\n",
    "Bilden nedan illustrerar ett exempel på populära bibliotek inom vad som refereras till som \"Scientific Python\".\n",
    "\n",
    "<figure>\n",
    "<img src=\"https://fabienmaussion.info/acinn_python_workshop/figures/scipy_ecosystem.png\" alt=\"Python scientific ecosystem\" width=\"600\">\n",
    "<figcaption>Credit: Fabien Maussion, Jake Vanderplas.</figcaption>\n",
    "</figure>\n",
    "\n",
    "Ett externt bibliotek kan till exempel implementera effektiva algoritmer för maskininlärning, funktioner för statistiska beräkningar, eller sätt att skapa interaktiva figurer.\n",
    "Vi kommer dock att fokusera på två av de mest grundläggande och användbara biblioteken: NumPy och Matplotlib."
   ]
  },
  {
   "cell_type": "markdown",
   "id": "bcecc002-4ad1-4e9c-b640-0357b75c9485",
   "metadata": {
    "jp-MarkdownHeadingCollapsed": true
   },
   "source": [
    "## Nästa steg\n",
    "\n",
    "Låt oss börja med att kika närmare på NumPy.\n",
    "\n",
    "<div style=\"width: 100%;\">\n",
    "    <div style=\"float: left\"> \n",
    "        <a href=\"03_funktioner.ipynb\">« Föregående (Funktioner)</a>         \n",
    "    </div>\n",
    "    <div style=\"text-align: right\"> \n",
    "        <a href=\"05_numpy.ipynb\">Nästa (NumPy) »</a>\n",
    "    </div>\n",
    "</div>"
   ]
  }
 ],
 "metadata": {
  "kernelspec": {
   "display_name": "Python 3 (ipykernel)",
   "language": "python",
   "name": "python3"
  },
  "language_info": {
   "codemirror_mode": {
    "name": "ipython",
    "version": 3
   },
   "file_extension": ".py",
   "mimetype": "text/x-python",
   "name": "python",
   "nbconvert_exporter": "python",
   "pygments_lexer": "ipython3",
   "version": "3.12.6"
  }
 },
 "nbformat": 4,
 "nbformat_minor": 5
}
