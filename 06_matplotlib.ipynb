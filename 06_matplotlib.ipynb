{
 "cells": [
  {
   "cell_type": "markdown",
   "id": "bb065893-8f03-41f4-802f-d7d254fd7407",
   "metadata": {},
   "source": [
    "# Matplotlib\n",
    "\n",
    "En annan viktigt del av vetenskapligt arbete är visualiseringar.\n",
    "För Python är [Matplotlib](https://matplotlib.org/) det vanligaste biblioteket för att skapa visualiseringar.\n",
    "Matplotlib är, precis som NumPy, ett stort bibliotek och vi har inte tid att gå igenom allt.\n",
    "Här följer några grundläggande exempel för att ni ska komma igång med att plotta data.\n",
    "Som alltid, för att lära er mer om Matplotlib är [dokumentationen](https://matplotlib.org/) er bästa vän.\n",
    "\n",
    "Enligt konventionen importerar vi `pyplot`-modulen från Matplotlib och namnger den till `plt`:"
   ]
  },
  {
   "cell_type": "code",
   "execution_count": null,
   "id": "868f9459-9f49-4d29-bccd-31e9ff659fbf",
   "metadata": {},
   "outputs": [],
   "source": [
    "import matplotlib.pyplot as plt"
   ]
  },
  {
   "cell_type": "markdown",
   "id": "f0612645-c17f-42c1-89ba-614d14c9c2e4",
   "metadata": {},
   "source": [
    "Vi skapar en plot, eller figur, med funktionen `subplots()`.\n",
    "`subplots()` returnerar två resultat, först själva figuren (`fig` nedan), och något som kallas en `axes` (`ax` nedan).\n",
    "Som en något förenklad analogi kan vi se dessa objekt som vårt staffli (`fig`) och vår målarduk (`axes`).\n",
    "\n",
    "<figure>\n",
    "<img src=\"media/matplotlib_figure_anatomy.png\" alt=\"Anatomin av en Matplotlib-figur\" width=\"600\">\n",
    "<figcaption>Förenklad anatomi av en Matplotlib-figur. Mer information finns i <a href=\"https://matplotlib.org/stable/users/explain/quick_start.html#parts-of-a-figure\">dokumentationen</a>.</figcaption>\n",
    "</figure>"
   ]
  },
  {
   "cell_type": "code",
   "execution_count": null,
   "id": "eca0db1f-f761-491b-a527-fba5d2ff7528",
   "metadata": {},
   "outputs": [],
   "source": [
    "# Det här kommer skapa en tom plot\n",
    "fig, ax = plt.subplots()"
   ]
  },
  {
   "cell_type": "markdown",
   "id": "28e7a949-a28a-4aa3-81ce-98208f07597d",
   "metadata": {},
   "source": [
    "Vi kan sedan plotta vår första data genom metoden `plot` från `ax`.\n",
    "`plot` kommer rita en linje mellan punkterna i den lista eller array vi skickar med som första argument."
   ]
  },
  {
   "cell_type": "code",
   "execution_count": null,
   "id": "84a14023-6871-4321-916e-355025771d99",
   "metadata": {},
   "outputs": [],
   "source": [
    "ax.plot([1, 2, 4])"
   ]
  },
  {
   "cell_type": "markdown",
   "id": "dd0672ef-d461-4883-b90f-f9f01582205f",
   "metadata": {},
   "source": [
    "Nu måste vi titta på figuren igen:"
   ]
  },
  {
   "cell_type": "code",
   "execution_count": null,
   "id": "fb89c72b-9adb-4458-bd29-bd3cec986a8d",
   "metadata": {},
   "outputs": [],
   "source": [
    "fig"
   ]
  },
  {
   "cell_type": "markdown",
   "id": "297fd965-1243-41de-a2f9-6a37646f33ab",
   "metadata": {},
   "source": [
    "Det är dock mycket smidigare att samla all kod för en figur i samma kod-cell, då blir det mycket enklare att snabbt göra ändringar i figuren:"
   ]
  },
  {
   "cell_type": "code",
   "execution_count": null,
   "id": "8314ff90-4289-4d0e-88f4-f3d1695734b8",
   "metadata": {},
   "outputs": [],
   "source": [
    "fig, ax = plt.subplots()\n",
    "ax.plot([1, 2])\n",
    "ax.plot([1, 4])"
   ]
  },
  {
   "cell_type": "markdown",
   "id": "b5c000bf-a9b2-4a13-9b48-46a806d593f0",
   "metadata": {},
   "source": [
    "<div class=\"alert alert-block alert-success\">\n",
    "   <b>Uppgift: </b>Testa att ändra färg på linjerna i figuren ovan. Läs dokumentationen, antingen med <tt>Shift+Tab</tt> när du markerat metoden \"plot\" eller på hemsidan, för att ta reda på hur.\n",
    "</div>"
   ]
  },
  {
   "cell_type": "markdown",
   "id": "8ffd0625-d212-4cc8-8117-fc606985ae83",
   "metadata": {},
   "source": [
    "Med hjälp av NumPy kan vi visualisera en sinuskurva.\n",
    "Först skapar vi 200 jämt fördelade värden mellan 0 och $2\\pi$.\n",
    "Sedan använder vi `np.sin` för att beräkna sinus-värdet för hela arrayen på en gång."
   ]
  },
  {
   "cell_type": "code",
   "execution_count": null,
   "id": "5f84c533-56af-42f7-8529-ebeb287177d8",
   "metadata": {},
   "outputs": [],
   "source": [
    "# Här skapar vi 200 värden mellan 0 och 2*pi\n",
    "x = np.linspace(0, 2 * np.pi, 200)\n",
    "\n",
    "# Beräkna sinus för dessa\n",
    "y = np.sin(x)"
   ]
  },
  {
   "cell_type": "code",
   "execution_count": null,
   "id": "d1879299-305f-4f36-9506-d38ef413b749",
   "metadata": {},
   "outputs": [],
   "source": [
    "fig, ax = plt.subplots()\n",
    "ax.plot(y)"
   ]
  },
  {
   "cell_type": "markdown",
   "id": "6c5ae511-f9bb-4d4b-ab8f-9da11474bb3a",
   "metadata": {},
   "source": [
    "<div class=\"alert alert-block alert-success\">\n",
    "   <b>Uppgift: </b>Är värdena på x-axeln i figuren ovan rimliga? Kan du lista ut hur man ändrar dem?\n",
    "    <details>\n",
    "        <summary><em>Tips:</em></summary>\n",
    "        Läs dokumentationen för <tt>ax.plot</tt>. Går det att skicka med ytterligare data för x-axeln? \n",
    "    </details>\n",
    "</div>"
   ]
  },
  {
   "cell_type": "markdown",
   "id": "8db25f6e-db72-41a6-82c7-8c6660b98ab9",
   "metadata": {},
   "source": [
    "## Figurtitel, namnge axlar, och legender\n",
    "Nästa steg i att skapa en figur som är redo för inlämningar, rapporter, eller artiklar är att annotera axlarna och ge figuren en titel.\n",
    "\n",
    "Detta gör vi med en samling metoder som börjar med `.set_`, som exempel:\n",
    "- `ax.set_xlabel`\n",
    "- `ax.set_ylabel`\n",
    "- `ax.set_title`\n",
    "\n",
    "För det här exemplet kommer vi använda data för den globala medeltemperaturen från [NASA](https://climate.nasa.gov/vital-signs/global-temperature/), vilken vi har förberett.\n",
    "Vi börjar med att ladda in datan till tre arrays, detta gör vi med funktionen `np.load`."
   ]
  },
  {
   "cell_type": "code",
   "execution_count": null,
   "id": "30e7915a-b583-44b5-91b4-77d37a2ce131",
   "metadata": {},
   "outputs": [],
   "source": [
    "# Ladda in åren vi har data för\n",
    "years = np.load(\"Data/gmst_year.npy\")\n",
    "\n",
    "# och den faktiska datan. Detta är den årliga globala medeltemperaturen (Global mean surface temperature, GMST)\n",
    "gmst = np.load(\"Data/gmst.npy\")\n",
    "\n",
    "# och det här är en något utslätad version av gmst-datan\n",
    "gmst_smooth = np.load(\"Data/gmst_smooth.npy\")"
   ]
  },
  {
   "cell_type": "code",
   "execution_count": null,
   "id": "c842110d-ee31-4beb-a55b-a7831b0a1bce",
   "metadata": {},
   "outputs": [],
   "source": [
    "# Först skapar vi en figur och en axes\n",
    "fig, ax = plt.subplots()\n",
    "\n",
    "# Sedan plottar vi den årliga medeltemperaturen.\n",
    "# Här plottar vi året på x-axeln och det faktiska värdet på y-axeln.\n",
    "# Notera att vi använder nyckelordet label följt av en sträng för att namnge linjen.\n",
    "ax.plot(years, gmst, label=\"Årsmedel\")\n",
    "\n",
    "# Med ax.grid() lägger vi till ett rutnät i figuren\n",
    "ax.grid()\n",
    "\n",
    "# Här namnger vi y-axeln.\n",
    "# Notera att det är möjligt att inkludera matematiska symboler och uttryck genom LaTeX mellan två $-tecken i en sträng.\n",
    "ax.set_ylabel(\"Temperaturavvikelse [$\\\\degree$C]\")\n",
    "\n",
    "# Slutligen ger vi figuren en titel och skapar en legend\n",
    "ax.set_title(f\"Global medeltemperatur ({years[0]}-{years[-1]})\")\n",
    "ax.legend()"
   ]
  },
  {
   "cell_type": "markdown",
   "id": "a94e1c56-0d0a-4064-9d4a-0322faf11bbb",
   "metadata": {},
   "source": [
    "<div class=\"alert alert-block alert-success\">\n",
    "<b>Uppgift: </b>Modifiera cellen ovan så att figuren också inkluderar variabeln gmst_smooth.\n",
    "    Denna ska ha ett lämpligt namn (label), ex. \"Rullande medelvärde\".\n",
    "    <br>\n",
    "    x-axeln ska också ges ett passande namn.\n",
    "</div>"
   ]
  },
  {
   "cell_type": "markdown",
   "id": "3bcf687d-a5a7-4397-adc4-e76004c9ada3",
   "metadata": {},
   "source": [
    "## Spara figurer\n",
    "Du kan spara en figur genom att köra `fig.savefig(\"filnamm.png\")` i en kodcell efter att du är nöjd med din figur.\n",
    "För att spara i ett annat format byter du helt enkelt ut filtypen i namnet, som exempel skulle `\"filnamn.pdf\"` resultera i att figuren sparas som en pdf."
   ]
  },
  {
   "cell_type": "code",
   "execution_count": null,
   "id": "ce1a0947-2711-4afd-b495-5bac35309576",
   "metadata": {},
   "outputs": [],
   "source": [
    "# Detta kommer spara figuren ovan som min_figur.png i samma mapp som den här notebooken\n",
    "fig.savefig(\"min_figur.png\")"
   ]
  },
  {
   "cell_type": "markdown",
   "id": "7c21e59c-fd40-48bb-a1cc-4ba490c82697",
   "metadata": {},
   "source": [
    "<div class=\"alert alert-block alert-success\">\n",
    "<b>Uppgift: </b>Öppna filhanteraren till vänster och dubbelkolla att figuren sparats och ser ut som du förväntar dig.\n",
    "</div>"
   ]
  },
  {
   "cell_type": "markdown",
   "id": "bcecc002-4ad1-4e9c-b640-0357b75c9485",
   "metadata": {},
   "source": [
    "## Nästa steg\n",
    "\n",
    "Den sista delen av Python-introduktionen innehåller några tips på hur man kan lösa programmeringsproblem, samt mindre problem där du kan träna på problemlösning.\n",
    "\n",
    "<div style=\"width: 100%;\">\n",
    "    <div style=\"float: left\"> \n",
    "        <a href=\"05_numpy.ipynb\">« Föregående (NumPy)</a>\n",
    "    </div>\n",
    "    <div style=\"text-align: right\"> \n",
    "        <a href=\"07_programmeringsproblem.ipynb\">Nästa (Programmeringsproblem) »</a>\n",
    "    </div>\n",
    "</div>"
   ]
  }
 ],
 "metadata": {
  "kernelspec": {
   "display_name": "Python 3 (ipykernel)",
   "language": "python",
   "name": "python3"
  },
  "language_info": {
   "codemirror_mode": {
    "name": "ipython",
    "version": 3
   },
   "file_extension": ".py",
   "mimetype": "text/x-python",
   "name": "python",
   "nbconvert_exporter": "python",
   "pygments_lexer": "ipython3",
   "version": "3.12.6"
  }
 },
 "nbformat": 4,
 "nbformat_minor": 5
}
