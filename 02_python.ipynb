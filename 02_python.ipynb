{
 "cells": [
  {
   "cell_type": "markdown",
   "id": "bb065893-8f03-41f4-802f-d7d254fd7407",
   "metadata": {},
   "source": [
    "# Programmeringsspråket Python\n",
    "\n",
    "Python är ett relativt enkelt och överskådligt programmeringsspråk som har blivit mycket populärt, bland annat inom data-analys och masikninlärning.\n",
    "Vi kommer inte hinna gå igenom Python grundligt här, utan tar bara upp det som är mest relevant för inlämningsuppgiften.\n",
    "\n",
    "Förutom texten här förväntas du läsa dokumentation (speciellt officiell dokumentation för Python och bibliotek som ni använder, t.ex. NumPy och Matplotlib) samt andra resurser, t.ex. online-tutorials och videor,\n",
    "lite beroende på vad du föredrar.\n",
    "Det finns länkar under Programmering 1-modulen i Canvas.\n",
    "\n",
    "Hjälp gärna varandra, men se till att du i slutändan förstår och kan göra allt själv."
   ]
  },
  {
   "cell_type": "markdown",
   "id": "16459f56-de16-4356-b5d9-fb27a06b4454",
   "metadata": {},
   "source": [
    "## Kommentarer\n",
    "\n",
    "En kommentar i Python-kod föregås med `#`-tecknet.\n",
    "Kommentarer kan vara användbara dels för att skriva ner förklaringar till dig själv och andra vad en bit av kod gör, och för att enkelt testa att \"stänga av\" en kodrad när du utvecklar din analys."
   ]
  },
  {
   "cell_type": "code",
   "execution_count": null,
   "id": "cbe5ff2b-ff84-4698-8ef7-b1f26351a01e",
   "metadata": {},
   "outputs": [],
   "source": [
    "# Här är en kommentar. Den kommer inte köras som python-kod\n",
    "1 + 1  # Det här är också en kommentar, dock kommer uttrycket innan köras"
   ]
  },
  {
   "cell_type": "markdown",
   "id": "f0730872-dadf-4bbc-99f2-77601ce20c2c",
   "metadata": {},
   "source": [
    "<div class=\"alert alert-block alert-info\">\n",
    "    <b>Info: </b>Var noga med att läs kommentarerna i kod-cellerna i den här notebooken.\n",
    "</div>"
   ]
  },
  {
   "cell_type": "markdown",
   "id": "983919d7-f7da-4de9-9877-0ecfd94daf5d",
   "metadata": {},
   "source": [
    "## Variabler och typer\n",
    "Variabler i Python tilldelas med `=`"
   ]
  },
  {
   "cell_type": "code",
   "execution_count": null,
   "id": "27a8f7c3-9ae4-45bd-8ea9-5332b32f2cc7",
   "metadata": {},
   "outputs": [],
   "source": [
    "# En sträng\n",
    "a = \"abc\"\n",
    "\n",
    "# Ett heltal (integer)\n",
    "b = 1\n",
    "\n",
    "# Ett flyttal (float)\n",
    "c = 2.4"
   ]
  },
  {
   "cell_type": "markdown",
   "id": "6a346e2d-6a79-4c4e-a68e-6ca57fc7d910",
   "metadata": {},
   "source": [
    "Celler känner till varandra, så en variabel eller funktion är tillgänglig i följande celler:"
   ]
  },
  {
   "cell_type": "code",
   "execution_count": null,
   "id": "5df570ba-7cd4-44e7-954e-943c705b3f93",
   "metadata": {},
   "outputs": [],
   "source": [
    "a"
   ]
  },
  {
   "cell_type": "code",
   "execution_count": null,
   "id": "2639e4a3-a0d3-4c67-aa66-ebe6f7524e75",
   "metadata": {},
   "outputs": [],
   "source": [
    "b + c"
   ]
  },
  {
   "cell_type": "code",
   "execution_count": null,
   "id": "fec8a1d2-482f-46af-a250-72371d358dc9",
   "metadata": {},
   "outputs": [],
   "source": [
    "c**2"
   ]
  },
  {
   "cell_type": "markdown",
   "id": "f338fd5e-b569-4db3-bf0b-290db1725b59",
   "metadata": {},
   "source": [
    "Sådant som inte är tillåtet eller fungerar returnerar ett felmeddelande:"
   ]
  },
  {
   "cell_type": "code",
   "execution_count": null,
   "id": "47b2f6c3-e165-40f1-bc46-a48ac8ebf0c8",
   "metadata": {},
   "outputs": [],
   "source": [
    "a + b"
   ]
  },
  {
   "cell_type": "code",
   "execution_count": null,
   "id": "42e9f82d-3748-42a5-8adf-aa5c906547e5",
   "metadata": {},
   "outputs": [],
   "source": [
    "d"
   ]
  },
  {
   "cell_type": "markdown",
   "id": "a163b5aa-736c-4ca2-a3df-de9c82b91b9c",
   "metadata": {},
   "source": [
    "<div class=\"alert alert-block alert-info\">\n",
    "<b>Info: </b>Förstår du felmeddelandena ovan?\n",
    "</div>"
   ]
  },
  {
   "cell_type": "markdown",
   "id": "e64b30f9-80d0-46e3-be38-e43715472b34",
   "metadata": {},
   "source": [
    "## Strängar\n",
    "Strängar i Python omges av enkla `'...'` eller dubbla `\"...\"` citattecken.\n",
    "De kan kombineras:"
   ]
  },
  {
   "cell_type": "code",
   "execution_count": null,
   "id": "f1c0be8c-4858-4e6d-97ab-148265516fd2",
   "metadata": {},
   "outputs": [],
   "source": [
    "a = \"hej\"\n",
    "b = \"då\"\n",
    "a + b"
   ]
  },
  {
   "cell_type": "markdown",
   "id": "616fe086-47de-4591-8313-8d887521f0d0",
   "metadata": {},
   "source": [
    "Men man kan inte subtrahera strängar"
   ]
  },
  {
   "cell_type": "code",
   "execution_count": null,
   "id": "9e88efaf-1df3-4fc6-95d4-aad5537b5235",
   "metadata": {},
   "outputs": [],
   "source": [
    "a - b"
   ]
  },
  {
   "cell_type": "markdown",
   "id": "eaedf1a7-baec-4ab5-a00e-37a6c224f4a4",
   "metadata": {},
   "source": [
    "Det går också att repetera strängar:"
   ]
  },
  {
   "cell_type": "code",
   "execution_count": null,
   "id": "124bf415-7bb9-4e7f-8584-0e930aab2fa2",
   "metadata": {},
   "outputs": [],
   "source": [
    "a * 3"
   ]
  },
  {
   "cell_type": "markdown",
   "id": "94013273-6014-4e18-a4ba-fcbae3b2ad21",
   "metadata": {},
   "source": [
    "En sträng är en sekvens av tecken.\n",
    "Det möjliggör att vi kan välja ut enstaka (indexera) eller flera (slices) delar av strängen:"
   ]
  },
  {
   "cell_type": "code",
   "execution_count": null,
   "id": "5902dd93-ad6a-4402-b305-c06ddea1c51a",
   "metadata": {},
   "outputs": [],
   "source": [
    "a = \"En lite längre sträng\"\n",
    "# Första elementet\n",
    "a[0]"
   ]
  },
  {
   "cell_type": "code",
   "execution_count": null,
   "id": "1e33b700-b891-4e60-8bb3-8b622ca2ec19",
   "metadata": {},
   "outputs": [],
   "source": [
    "# Sista elementet\n",
    "a[-1]"
   ]
  },
  {
   "cell_type": "code",
   "execution_count": null,
   "id": "5db6b849-2392-4139-bf86-62c59e47f96b",
   "metadata": {},
   "outputs": [],
   "source": [
    "a[4:8]"
   ]
  },
  {
   "cell_type": "markdown",
   "id": "5b386a88-63a6-4934-aa2b-1400f0a47594",
   "metadata": {},
   "source": [
    "<div class=\"alert alert-block alert-success\">\n",
    "<b>Uppgift: </b>Vad händer om du försöker ta tecknet på plats 21? Lägg till en cell under denna och pröva. Det gör du enklast genom att markera denna cellen och klicka på <b>B</b> på tangentbordet.\n",
    "</div>"
   ]
  },
  {
   "cell_type": "markdown",
   "id": "f49d22ff-c448-4ace-9a5f-1ee9507376d0",
   "metadata": {},
   "source": [
    "## Listor\n",
    "För mer generella sekvenser i Python finns listor.\n"
   ]
  },
  {
   "cell_type": "code",
   "execution_count": null,
   "id": "d9809628-980c-4ea5-8948-02341483d2a9",
   "metadata": {},
   "outputs": [],
   "source": [
    "a = [1, 2, 3, 4, 5, 6, 7, 8]\n",
    "a"
   ]
  },
  {
   "cell_type": "markdown",
   "id": "d90e86a5-e637-46d4-b00b-5fe44c44f0c3",
   "metadata": {},
   "source": [
    "Precis som strängar kan dessa indexeras och sliceas:"
   ]
  },
  {
   "cell_type": "code",
   "execution_count": null,
   "id": "f27b97fe-144d-45b1-994b-e015dded23ed",
   "metadata": {},
   "outputs": [],
   "source": [
    "a[0]"
   ]
  },
  {
   "cell_type": "code",
   "execution_count": null,
   "id": "ed19b36d-3c50-4f34-8e51-c0ecaece59e9",
   "metadata": {},
   "outputs": [],
   "source": [
    "a[2:5]"
   ]
  },
  {
   "cell_type": "code",
   "execution_count": null,
   "id": "f4c84d39-260f-426b-9ae7-ab0ddeb7aba8",
   "metadata": {},
   "outputs": [],
   "source": [
    "a[5:]"
   ]
  },
  {
   "cell_type": "markdown",
   "id": "3d25af17-6154-4ce8-aff7-5df0b301e366",
   "metadata": {},
   "source": [
    "Det är enkelt att iterera över sekvenser och utföra operationer på elementen:"
   ]
  },
  {
   "cell_type": "code",
   "execution_count": null,
   "id": "41052196-8e9d-4e0b-ade9-755cf6319162",
   "metadata": {},
   "outputs": [],
   "source": [
    "for elem in a:\n",
    "    print(elem**2)"
   ]
  },
  {
   "cell_type": "markdown",
   "id": "3f3bfbaf-b393-4e34-a659-9d6fac66dc14",
   "metadata": {},
   "source": [
    "Att manuellt skapa en lista för att iterera över nummer är inte så smidigt, istället finns den inbyggda funktionen `range`:"
   ]
  },
  {
   "cell_type": "code",
   "execution_count": null,
   "id": "96874711-2f2a-43a7-8f64-95fcc263fd98",
   "metadata": {},
   "outputs": [],
   "source": [
    "for i in range(8):\n",
    "    print(i**2)"
   ]
  },
  {
   "cell_type": "markdown",
   "id": "a67a307f-956e-4339-a4a0-fe8ad66b4d0c",
   "metadata": {},
   "source": [
    "`range` accepterar flera parametrar, du kan se vilka de är genom att läsa funktionens signatur.\n",
    "Den öppnas antingen automatisk medan du skrivit funktionen, eller så kan du trycka på `Shift+Tab` när du skrivit funktionsnamnet, i detta fallet `range`.\n",
    "\n",
    "<div class=\"alert alert-block alert-success\">\n",
    "<b>Uppgift: </b>Skriv en loop i en ny cell under denna som skriver ut var tredje tal mellan 20 och 50.\n",
    "<br>\n",
    "<details>\n",
    "<summary><em>Tips:</em></summary>\n",
    "Läs igenom signaturen för range, antingen här eller med hjälp av valfri sökmotor.\n",
    "</details>\n",
    "</div>"
   ]
  },
  {
   "cell_type": "markdown",
   "id": "bcecc002-4ad1-4e9c-b640-0357b75c9485",
   "metadata": {},
   "source": [
    "## Nästa steg\n",
    "\n",
    "Härnäst ska vi titta på en annan viktig avspekt av Python och många andra programmeringsspråk, nämligen funktioner.\n",
    "\n",
    "<div style=\"width: 100%;\">\n",
    "    <div style=\"float: left\"> \n",
    "        <a href=\"01_introduktion.ipynb\">« Föregående (Introduktion)</a>         \n",
    "    </div>\n",
    "    <div style=\"text-align: right\"> \n",
    "        <a href=\"03_funktioner.ipynb\">Nästa (Funktioner) »</a>\n",
    "    </div>\n",
    "</div>"
   ]
  }
 ],
 "metadata": {
  "kernelspec": {
   "display_name": "Python 3 (ipykernel)",
   "language": "python",
   "name": "python3"
  },
  "language_info": {
   "codemirror_mode": {
    "name": "ipython",
    "version": 3
   },
   "file_extension": ".py",
   "mimetype": "text/x-python",
   "name": "python",
   "nbconvert_exporter": "python",
   "pygments_lexer": "ipython3",
   "version": "3.12.6"
  }
 },
 "nbformat": 4,
 "nbformat_minor": 5
}
